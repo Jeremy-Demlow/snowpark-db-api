{
 "cells": [
  {
   "cell_type": "markdown",
   "metadata": {
    "vscode": {
     "languageId": "raw"
    }
   },
   "source": [
    "# High-Level API: Simple Data Transfer\n",
    "\n",
    "**Goal:** Transfer data with one function call. No complexity, no configuration hell.\n",
    "\n",
    "This is what 90% of users need. Just works out of the box.\n",
    "\n",
    "## Why This Matters\n",
    "\n",
    "- **Simple**: One function call does everything\n",
    "- **Safe**: Built-in limits and validation\n",
    "- **Transparent**: Shows you what's happening\n",
    "- **Smart**: Auto-derives destination names\n",
    "\n",
    "## Real World Usage\n",
    "\n",
    "Most business users just want to move data. They don't want to learn complex APIs or manage connections. This API is for them.\n"
   ]
  },
  {
   "cell_type": "code",
   "execution_count": 1,
   "metadata": {},
   "outputs": [],
   "source": [
    "from snowpark_db_api import transfer, transfer_sample, transfer_with_validation"
   ]
  },
  {
   "cell_type": "markdown",
   "metadata": {
    "vscode": {
     "languageId": "raw"
    }
   },
   "source": [
    "## 1. Simple Table Transfer\n",
    "\n",
    "Copy entire tables with zero configuration.\n"
   ]
  },
  {
   "cell_type": "code",
   "execution_count": 2,
   "metadata": {},
   "outputs": [
    {
     "name": "stdout",
     "output_type": "stream",
     "text": [
      "🚀 Starting transfer: (SELECT TOP 100 * FROM dbo.RandomDataWith100Columns) AS high_level_test\n",
      "🎯 Configuration overrides: database=DB_API_MSSQL, schema=DEV_TEST, create_db_if_missing=True\n",
      "📋 Detected custom query\n",
      "📊 Source: alingtestserver.database.windows.net (sqlserver)\n",
      "❄️  Target: trb65519.DB_API_MSSQL\n",
      "📝 Auto-derived destination: HIGH_LEVEL_TEST\n",
      "2025-07-03 01:24:28 - snowpark_db_api.core - INFO - Setting up connections\n",
      "2025-07-03 01:24:30 - snowpark_db_api.core - INFO - All connections established\n",
      "2025-07-03 01:24:30 - snowpark_db_api.core - INFO - Starting transfer using custom query -> HIGH_LEVEL_TEST\n"
     ]
    },
    {
     "name": "stderr",
     "output_type": "stream",
     "text": [
      "DataFrameReader.dbapi() is in private preview since 1.29.0. Do not use it in production. \n"
     ]
    },
    {
     "name": "stdout",
     "output_type": "stream",
     "text": [
      "2025-07-03 01:24:32 - snowpark_db_api.connections - INFO - Successfully connected to SQL Server: alingtestserver.database.windows.net\n",
      "2025-07-03 01:24:32 - snowpark_db_api.connections - INFO - Successfully connected to SQL Server: alingtestserver.database.windows.net\n",
      "2025-07-03 01:24:34 - snowpark_db_api.connections - INFO - Successfully connected to SQL Server: alingtestserver.database.windows.net\n",
      "2025-07-03 01:24:38 - snowpark_db_api.core - INFO - Transferring 100 rows\n",
      "2025-07-03 01:24:39 - snowpark_db_api.core - INFO - Transfer completed: 100 rows in 8.8s\n"
     ]
    }
   ],
   "source": [
    "# Simple query with just 100 rows for testing\n",
    "result = transfer(\n",
    "    \"(SELECT TOP 100 * FROM dbo.RandomDataWith100Columns) AS high_level_test\",\n",
    "    snowflake_database=\"DB_API_MSSQL\",\n",
    "    snowflake_schema=\"DEV_TEST\", \n",
    "    create_db_if_missing=True\n",
    ")"
   ]
  },
  {
   "cell_type": "markdown",
   "metadata": {},
   "source": [
    "What happened:\n",
    "- Connected to SQL Server and Snowflake automatically\n",
    "- Used DB_API_MSSQL database instead of environment default\n",
    "- Used STAGING schema instead of PUBLIC\n",
    "- Created PUBLIC table in the right place\n",
    "- Closed connections cleanly"
   ]
  },
  {
   "cell_type": "markdown",
   "metadata": {
    "vscode": {
     "languageId": "raw"
    }
   },
   "source": [
    "## 🎯 Runtime Configuration Examples\n",
    "\n",
    "Perfect for analysts who need small adjustments without complexity!\n",
    "\n",
    "```python\n",
    "\n",
    "# Development environment\n",
    "transfer(\"dbo.TestData\", \n",
    "         snowflake_database=\"DB_API_DEV\",\n",
    "         snowflake_schema=\"SANDBOX\",\n",
    "         snowflake_warehouse=\"XSMALL_WH\")\n",
    "\n",
    "# Production environment  \n",
    "transfer(\"dbo.ProductionData\",\n",
    "         snowflake_database=\"DB_API_PROD\", \n",
    "         snowflake_schema=\"PUBLIC\",\n",
    "         snowflake_warehouse=\"LARGE_WH\")\n",
    "\n",
    "# Quick test in your personal schema\n",
    "transfer(\"dbo.MyData\",\n",
    "         snowflake_database=\"DB_API_MSSQL\",\n",
    "         snowflake_schema=\"JOHN_SANDBOX\")\n",
    "\n",
    "```\n",
    "\n"
   ]
  },
  {
   "cell_type": "markdown",
   "metadata": {},
   "source": [
    "## 🎯 Runtime Configuration Examples\n",
    "\n",
    "Perfect for analysts who need small adjustments without complexity!\n"
   ]
  },
  {
   "cell_type": "markdown",
   "metadata": {
    "vscode": {
     "languageId": "raw"
    }
   },
   "source": [
    "## 2. Query-Based Transfer\n",
    "\n",
    "Transfer filtered data using real SQL queries. The destination is auto-derived from the query alias.\n"
   ]
  },
  {
   "cell_type": "code",
   "execution_count": 3,
   "metadata": {},
   "outputs": [
    {
     "name": "stdout",
     "output_type": "stream",
     "text": [
      "🧪 Sampling 50 rows for testing\n",
      "🚀 Starting transfer: (SELECT TOP 500 ID, Column0, Column1, Column2, Column3 FROM dbo.RandomDataWith100Columns) AS sample_test\n",
      "🎯 Configuration overrides: database=DB_API_MSSQL, create_db_if_missing=False (safe default), schema=PUBLIC\n",
      "📋 Detected custom query\n",
      "📊 Source: alingtestserver.database.windows.net (sqlserver)\n",
      "❄️  Target: trb65519.DB_API_MSSQL\n",
      "📝 Auto-derived destination: SAMPLE_TEST\n",
      "🔢 Limited to 50 rows\n",
      "2025-07-03 01:27:09 - snowpark_db_api.core - INFO - Setting up connections\n",
      "2025-07-03 01:27:10 - snowpark_db_api.core - INFO - All connections established\n",
      "2025-07-03 01:27:10 - snowpark_db_api.core - INFO - Starting transfer using custom query -> SAMPLE_TEST\n",
      "2025-07-03 01:27:11 - snowpark_db_api.connections - INFO - Successfully connected to SQL Server: alingtestserver.database.windows.net\n",
      "2025-07-03 01:27:12 - snowpark_db_api.connections - INFO - Successfully connected to SQL Server: alingtestserver.database.windows.net\n",
      "2025-07-03 01:27:14 - snowpark_db_api.connections - INFO - Successfully connected to SQL Server: alingtestserver.database.windows.net\n",
      "2025-07-03 01:27:16 - snowpark_db_api.core - INFO - Transferring 500 rows\n",
      "2025-07-03 01:27:18 - snowpark_db_api.core - INFO - Transfer completed: 500 rows in 7.5s\n"
     ]
    }
   ],
   "source": [
    "# Recent orders - destination auto-derived from alias\n",
    "# Test with small sample - always safe\n",
    "result = transfer_sample(\n",
    "    \"(SELECT TOP 500 ID, Column0, Column1, Column2, Column3 FROM dbo.RandomDataWith100Columns) AS sample_test\",\n",
    "    rows=50,  # Even smaller sample\n",
    "    snowflake_database=\"DB_API_MSSQL\",\n",
    "    snowflake_schema=\"PUBLIC\"\n",
    ")"
   ]
  },
  {
   "cell_type": "markdown",
   "metadata": {
    "vscode": {
     "languageId": "raw"
    }
   },
   "source": [
    "## 3. Multi-Query Examples"
   ]
  },
  {
   "cell_type": "code",
   "execution_count": 4,
   "metadata": {},
   "outputs": [
    {
     "name": "stdout",
     "output_type": "stream",
     "text": [
      "\n",
      "📝 Testing: User profile data\n",
      "🚀 Starting transfer: (SELECT TOP 10 Id, FullName, Country FROM dbo.UserProfile WHERE Id IS NOT NULL) AS user_sample\n",
      "🎯 Configuration overrides: database=DB_API_MSSQL, schema=PUBLIC, create_db_if_missing=False\n",
      "📋 Detected custom query\n",
      "📊 Source: alingtestserver.database.windows.net (sqlserver)\n",
      "❄️  Target: trb65519.DB_API_MSSQL\n",
      "📝 Auto-derived destination: USER_SAMPLE\n",
      "2025-07-03 01:28:11 - snowpark_db_api.core - INFO - Setting up connections\n",
      "2025-07-03 01:28:11 - snowpark_db_api.core - INFO - All connections established\n",
      "2025-07-03 01:28:12 - snowpark_db_api.core - INFO - Starting transfer using custom query -> USER_SAMPLE\n",
      "2025-07-03 01:28:12 - snowpark_db_api.connections - INFO - Successfully connected to SQL Server: alingtestserver.database.windows.net\n",
      "2025-07-03 01:28:13 - snowpark_db_api.connections - INFO - Successfully connected to SQL Server: alingtestserver.database.windows.net\n",
      "2025-07-03 01:28:14 - snowpark_db_api.connections - INFO - Successfully connected to SQL Server: alingtestserver.database.windows.net\n",
      "2025-07-03 01:28:16 - snowpark_db_api.core - INFO - Transferring 1 rows\n",
      "2025-07-03 01:28:18 - snowpark_db_api.core - INFO - Transfer completed: 1 rows in 6.5s\n",
      "\n",
      "📝 Testing: Recent orders\n",
      "🚀 Starting transfer: (SELECT TOP 20 o_orderkey, o_custkey, o_totalprice FROM dbo.ORDERS WHERE o_orderdate >= '2020-01-01') AS recent_orders\n",
      "🎯 Configuration overrides: database=DB_API_MSSQL, schema=PUBLIC, create_db_if_missing=False\n",
      "📋 Detected custom query\n",
      "📊 Source: alingtestserver.database.windows.net (sqlserver)\n",
      "❄️  Target: trb65519.DB_API_MSSQL\n",
      "📝 Auto-derived destination: RECENT_ORDERS\n",
      "2025-07-03 01:28:19 - snowpark_db_api.core - INFO - Setting up connections\n",
      "2025-07-03 01:28:19 - snowpark_db_api.core - INFO - All connections established\n",
      "2025-07-03 01:28:19 - snowpark_db_api.core - INFO - Starting transfer using custom query -> RECENT_ORDERS\n",
      "2025-07-03 01:28:20 - snowpark_db_api.connections - INFO - Successfully connected to SQL Server: alingtestserver.database.windows.net\n",
      "2025-07-03 01:28:21 - snowpark_db_api.connections - INFO - Successfully connected to SQL Server: alingtestserver.database.windows.net\n",
      "2025-07-03 01:28:22 - snowpark_db_api.connections - INFO - Successfully connected to SQL Server: alingtestserver.database.windows.net\n",
      "2025-07-03 01:28:25 - snowpark_db_api.core - INFO - Transferring 20 rows\n",
      "2025-07-03 01:28:26 - snowpark_db_api.core - INFO - Transfer completed: 20 rows in 6.1s\n",
      "\n",
      "📝 Testing: Minimal column set\n",
      "🚀 Starting transfer: (SELECT TOP 25 ID, Column0, Column1, Column5 as timestamp_col FROM dbo.RandomDataWith100Columns) AS minimal_test\n",
      "🎯 Configuration overrides: database=DB_API_MSSQL, schema=PUBLIC, create_db_if_missing=False\n",
      "📋 Detected custom query\n",
      "📊 Source: alingtestserver.database.windows.net (sqlserver)\n",
      "❄️  Target: trb65519.DB_API_MSSQL\n",
      "📝 Auto-derived destination: MINIMAL_TEST\n",
      "2025-07-03 01:28:26 - snowpark_db_api.core - INFO - Setting up connections\n",
      "2025-07-03 01:28:27 - snowpark_db_api.core - INFO - All connections established\n",
      "2025-07-03 01:28:27 - snowpark_db_api.core - INFO - Starting transfer using custom query -> MINIMAL_TEST\n",
      "2025-07-03 01:28:27 - snowpark_db_api.connections - INFO - Successfully connected to SQL Server: alingtestserver.database.windows.net\n",
      "2025-07-03 01:28:28 - snowpark_db_api.connections - INFO - Successfully connected to SQL Server: alingtestserver.database.windows.net\n",
      "2025-07-03 01:28:29 - snowpark_db_api.connections - INFO - Successfully connected to SQL Server: alingtestserver.database.windows.net\n",
      "2025-07-03 01:28:32 - snowpark_db_api.core - INFO - Transferring 25 rows\n",
      "2025-07-03 01:28:33 - snowpark_db_api.core - INFO - Transfer completed: 25 rows in 6.5s\n"
     ]
    }
   ],
   "source": [
    "queries = [\n",
    "    # Small user profile data\n",
    "    (\"(SELECT TOP 10 Id, FullName, Country FROM dbo.UserProfile WHERE Id IS NOT NULL) AS user_sample\", \"User profile data\"),\n",
    "    \n",
    "    # Order data with date filter\n",
    "    (\"(SELECT TOP 20 o_orderkey, o_custkey, o_totalprice FROM dbo.ORDERS WHERE o_orderdate >= '2020-01-01') AS recent_orders\", \"Recent orders\"),\n",
    "    \n",
    "    # Random data with specific columns\n",
    "    (\"(SELECT TOP 25 ID, Column0, Column1, Column5 as timestamp_col FROM dbo.RandomDataWith100Columns) AS minimal_test\", \"Minimal column set\"),\n",
    "]\n",
    "\n",
    "results = []\n",
    "for query, description in queries:\n",
    "    print(f\"\\n📝 Testing: {description}\")\n",
    "    result = transfer(\n",
    "        query,\n",
    "        snowflake_database=\"DB_API_MSSQL\",\n",
    "        snowflake_schema=\"PUBLIC\",\n",
    "        create_db_if_missing=False\n",
    "    )\n",
    "    results.append((description, result))"
   ]
  },
  {
   "cell_type": "markdown",
   "metadata": {
    "vscode": {
     "languageId": "raw"
    }
   },
   "source": [
    "## 4. Transfer with Validation\n",
    "\n",
    "For production workloads, add validation to ensure data quality.\n"
   ]
  },
  {
   "cell_type": "code",
   "execution_count": 5,
   "metadata": {},
   "outputs": [
    {
     "name": "stdout",
     "output_type": "stream",
     "text": [
      "✅ Starting validated transfer\n",
      "🚀 Starting transfer: (SELECT TOP 15 ID, Column0, Column1 FROM dbo.RandomDataWith100Columns) AS validated_test\n",
      "🎯 Configuration overrides: database=DB_API_MSSQL, schema=PUBLIC, create_db_if_missing=False\n",
      "📋 Detected custom query\n",
      "📊 Source: alingtestserver.database.windows.net (sqlserver)\n",
      "❄️  Target: trb65519.DB_API_MSSQL\n",
      "📝 Auto-derived destination: VALIDATED_TEST\n",
      "2025-07-03 01:28:59 - snowpark_db_api.core - INFO - Setting up connections\n",
      "2025-07-03 01:29:00 - snowpark_db_api.core - INFO - All connections established\n",
      "2025-07-03 01:29:00 - snowpark_db_api.core - INFO - Starting transfer using custom query -> VALIDATED_TEST\n",
      "2025-07-03 01:29:01 - snowpark_db_api.connections - INFO - Successfully connected to SQL Server: alingtestserver.database.windows.net\n",
      "2025-07-03 01:29:02 - snowpark_db_api.connections - INFO - Successfully connected to SQL Server: alingtestserver.database.windows.net\n",
      "2025-07-03 01:29:03 - snowpark_db_api.connections - INFO - Successfully connected to SQL Server: alingtestserver.database.windows.net\n",
      "2025-07-03 01:29:05 - snowpark_db_api.core - INFO - Transferring 15 rows\n",
      "2025-07-03 01:29:06 - snowpark_db_api.core - INFO - Transfer completed: 15 rows in 5.4s\n",
      "Transfer validated: True\n",
      "Pre-transfer checks: True\n",
      "Post-transfer checks: {'row_count_match': True, 'schema_match': True}\n"
     ]
    }
   ],
   "source": [
    "# Transfer with automatic validation\n",
    "validation_rules = {\n",
    "    'min_rows': 1,\n",
    "    'max_rows': 100,\n",
    "    'required_columns': ['ID', 'Column0']\n",
    "}\n",
    "\n",
    "result = transfer_with_validation(\n",
    "    \"(SELECT TOP 15 ID, Column0, Column1 FROM dbo.RandomDataWith100Columns) AS validated_test\",\n",
    "    validation_rules=validation_rules,\n",
    "    snowflake_database=\"DB_API_MSSQL\",\n",
    "    snowflake_schema=\"PUBLIC\",\n",
    "    create_db_if_missing=False\n",
    ")\n",
    "\n",
    "print(f\"Transfer validated: {result['transfer_success']}\")\n",
    "print(f\"Pre-transfer checks: {result['pre_transfer']['valid']}\")\n",
    "print(f\"Post-transfer checks: {result['post_transfer']}\")\n"
   ]
  },
  {
   "cell_type": "markdown",
   "metadata": {
    "vscode": {
     "languageId": "raw"
    }
   },
   "source": [
    "## Summary: When to Use High-Level API\n",
    "\n",
    "**Use this API when:**\n",
    "- ✅ You want to transfer data quickly with minimal code\n",
    "- ✅ You're okay with sensible defaults BUT need flexibility for small changes\n",
    "- ✅ You want built-in safety features (limits, validation)\n",
    "- ✅ You prefer transparency (see what's happening)\n",
    "- ✅ **NEW: You need to override database/schema/warehouse at runtime**\n",
    "\n",
    "**Don't use this API when:**\n",
    "- ❌ You need custom connection pooling\n",
    "- ❌ You want to control transform pipelines\n",
    "- ❌ You need access to raw Snowpark DataFrames\n",
    "- ❌ You're building complex data workflows\n",
    "\n",
    "**🎯 What makes this API powerful:**\n",
    "- **Simple**: One function call for most use cases\n",
    "- **Flexible**: Override any configuration parameter at runtime\n",
    "- **Safe**: Built-in limits and validation\n",
    "- **Transparent**: Shows exactly what's happening\n",
    "- **Environment-aware**: Works in dev, staging, prod with same code\n",
    "\n",
    "**What you learned:**\n",
    "- `transfer()` - Main function with runtime config overrides\n",
    "- `transfer_sample()` - Safe testing with flexible targeting\n",
    "- `transfer_with_validation()` - Production-ready with environment flexibility\n",
    "- Query aliases automatically become destination names\n",
    "- **NEW: Runtime configuration overrides for database, schema, warehouse**\n",
    "\n",
    "**Next:** Check out the Mid-Level API for more control over your transfers.\n"
   ]
  }
 ],
 "metadata": {
  "kernelspec": {
   "display_name": "Python 3 (ipykernel)",
   "language": "python",
   "name": "python3"
  },
  "language_info": {
   "codemirror_mode": {
    "name": "ipython",
    "version": 3
   },
   "file_extension": ".py",
   "mimetype": "text/x-python",
   "name": "python",
   "nbconvert_exporter": "python",
   "pygments_lexer": "ipython3",
   "version": "3.11.13"
  }
 },
 "nbformat": 4,
 "nbformat_minor": 4
}
