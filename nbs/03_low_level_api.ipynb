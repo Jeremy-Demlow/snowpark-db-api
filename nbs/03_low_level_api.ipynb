{
 "cells": [
  {
   "cell_type": "markdown",
   "metadata": {
    "vscode": {
     "languageId": "raw"
    }
   },
   "source": [
    "# Low-Level API: Complete Control\n",
    "\n",
    "**Goal:** Direct access to all internal operations. Maximum flexibility, maximum responsibility.\n",
    "\n",
    "This is for advanced users who need complete control over every aspect of the transfer.\n",
    "\n",
    "## Why This Matters\n",
    "\n",
    "- **Complete Control**: Access every internal operation\n",
    "- **Raw Performance**: Bypass all abstractions when needed  \n",
    "- **Custom Logic**: Implement any transfer pattern imaginable\n",
    "- **Deep Integration**: Build tools on top of the core primitives\n",
    "\n",
    "## Real World Usage\n",
    "\n",
    "Database engineers, tool builders, and performance specialists who need access to the raw machinery.\n"
   ]
  },
  {
   "cell_type": "code",
   "execution_count": 2,
   "metadata": {},
   "outputs": [],
   "source": [
    "from snowpark_db_api import LowLevelTransferEngine\n",
    "from snowpark_db_api.core import DataTransfer\n",
    "from snowpark_db_api.config import get_config\n",
    "from snowpark_db_api.snowflake_connection import SnowflakeConnection, ConnectionConfig\n",
    "\n",
    "# Also import Snowpark directly for raw operations\n",
    "from snowflake.snowpark import Session\n",
    "import logging"
   ]
  },
  {
   "cell_type": "markdown",
   "metadata": {
    "vscode": {
     "languageId": "raw"
    }
   },
   "source": [
    "## 1. Raw Transfer Engine\n",
    "\n",
    "Direct access to the core transfer machinery. You handle everything explicitly.\n"
   ]
  },
  {
   "cell_type": "code",
   "execution_count": 3,
   "metadata": {},
   "outputs": [],
   "source": [
    "config = get_config()\n",
    "engine = LowLevelTransferEngine(config)"
   ]
  },
  {
   "cell_type": "code",
   "execution_count": 4,
   "metadata": {},
   "outputs": [
    {
     "name": "stdout",
     "output_type": "stream",
     "text": [
      "Establishing raw connections...\n",
      "2025-07-03 01:58:03 - snowpark_db_api.core - INFO - Setting up connections\n",
      "2025-07-03 01:58:05 - snowpark_db_api.core - INFO - All connections established\n",
      "Connection success: True\n"
     ]
    }
   ],
   "source": [
    "print(\"Establishing raw connections...\")\n",
    "connections = engine.establish_raw_connections()\n",
    "print(f\"Connection success: {connections['success']}\")"
   ]
  },
  {
   "cell_type": "code",
   "execution_count": 5,
   "metadata": {},
   "outputs": [
    {
     "name": "stdout",
     "output_type": "stream",
     "text": [
      "2025-07-03 01:58:48 - snowpark_db_api.connections - INFO - Successfully connected to SQL Server: alingtestserver.database.windows.net\n",
      "Source query returned 10 rows\n"
     ]
    }
   ],
   "source": [
    "raw_query = \"SELECT TOP 10 ID, Column0 FROM dbo.RandomDataWith100Columns\"\n",
    "source_results = engine.execute_raw_query(raw_query)\n",
    "print(f\"Source query returned {len(source_results)} rows\")"
   ]
  },
  {
   "cell_type": "code",
   "execution_count": 8,
   "metadata": {},
   "outputs": [
    {
     "name": "stdout",
     "output_type": "stream",
     "text": [
      "2025-07-03 01:59:17 - snowpark_db_api.connections - INFO - Successfully connected to SQL Server: alingtestserver.database.windows.net\n",
      "2025-07-03 01:59:18 - snowpark_db_api.connections - INFO - Successfully connected to SQL Server: alingtestserver.database.windows.net\n",
      "2025-07-03 01:59:20 - snowpark_db_api.connections - INFO - Successfully connected to SQL Server: alingtestserver.database.windows.net\n",
      "DataFrame created from UserProfile table: <class 'snowflake.snowpark.table.Table'>\n"
     ]
    }
   ],
   "source": [
    "# Use a small table first - UserProfile is much smaller\n",
    "df = engine.create_snowpark_dataframe(\"dbo.ORDERS\")\n",
    "print(f\"DataFrame created from UserProfile table: {type(df)}\")"
   ]
  },
  {
   "cell_type": "code",
   "execution_count": 10,
   "metadata": {},
   "outputs": [
    {
     "data": {
      "text/html": [
       "<div>\n",
       "<style scoped>\n",
       "    .dataframe tbody tr th:only-of-type {\n",
       "        vertical-align: middle;\n",
       "    }\n",
       "\n",
       "    .dataframe tbody tr th {\n",
       "        vertical-align: top;\n",
       "    }\n",
       "\n",
       "    .dataframe thead th {\n",
       "        text-align: right;\n",
       "    }\n",
       "</style>\n",
       "<table border=\"1\" class=\"dataframe\">\n",
       "  <thead>\n",
       "    <tr style=\"text-align: right;\">\n",
       "      <th></th>\n",
       "      <th>O_ORDERKEY</th>\n",
       "      <th>O_CUSTKEY</th>\n",
       "      <th>O_TOTALPRICE</th>\n",
       "      <th>O_ORDERDATE</th>\n",
       "    </tr>\n",
       "  </thead>\n",
       "  <tbody>\n",
       "    <tr>\n",
       "      <th>0</th>\n",
       "      <td>10101</td>\n",
       "      <td>98</td>\n",
       "      <td>3689.52</td>\n",
       "      <td>2024-02-11</td>\n",
       "    </tr>\n",
       "    <tr>\n",
       "      <th>1</th>\n",
       "      <td>10102</td>\n",
       "      <td>99</td>\n",
       "      <td>3210.76</td>\n",
       "      <td>2024-02-10</td>\n",
       "    </tr>\n",
       "    <tr>\n",
       "      <th>2</th>\n",
       "      <td>10103</td>\n",
       "      <td>100</td>\n",
       "      <td>2956.73</td>\n",
       "      <td>2024-02-09</td>\n",
       "    </tr>\n",
       "    <tr>\n",
       "      <th>3</th>\n",
       "      <td>10104</td>\n",
       "      <td>1</td>\n",
       "      <td>1478.52</td>\n",
       "      <td>2024-02-08</td>\n",
       "    </tr>\n",
       "    <tr>\n",
       "      <th>4</th>\n",
       "      <td>9101</td>\n",
       "      <td>98</td>\n",
       "      <td>1269.50</td>\n",
       "      <td>2024-11-07</td>\n",
       "    </tr>\n",
       "    <tr>\n",
       "      <th>5</th>\n",
       "      <td>9102</td>\n",
       "      <td>99</td>\n",
       "      <td>1087.15</td>\n",
       "      <td>2024-11-06</td>\n",
       "    </tr>\n",
       "    <tr>\n",
       "      <th>6</th>\n",
       "      <td>9103</td>\n",
       "      <td>100</td>\n",
       "      <td>1523.31</td>\n",
       "      <td>2024-11-05</td>\n",
       "    </tr>\n",
       "    <tr>\n",
       "      <th>7</th>\n",
       "      <td>9104</td>\n",
       "      <td>1</td>\n",
       "      <td>1388.90</td>\n",
       "      <td>2024-11-04</td>\n",
       "    </tr>\n",
       "    <tr>\n",
       "      <th>8</th>\n",
       "      <td>9105</td>\n",
       "      <td>2</td>\n",
       "      <td>1861.24</td>\n",
       "      <td>2024-11-03</td>\n",
       "    </tr>\n",
       "    <tr>\n",
       "      <th>9</th>\n",
       "      <td>9106</td>\n",
       "      <td>3</td>\n",
       "      <td>3525.50</td>\n",
       "      <td>2024-11-02</td>\n",
       "    </tr>\n",
       "  </tbody>\n",
       "</table>\n",
       "</div>"
      ],
      "text/plain": [
       "   O_ORDERKEY  O_CUSTKEY  O_TOTALPRICE O_ORDERDATE\n",
       "0       10101         98       3689.52  2024-02-11\n",
       "1       10102         99       3210.76  2024-02-10\n",
       "2       10103        100       2956.73  2024-02-09\n",
       "3       10104          1       1478.52  2024-02-08\n",
       "4        9101         98       1269.50  2024-11-07\n",
       "5        9102         99       1087.15  2024-11-06\n",
       "6        9103        100       1523.31  2024-11-05\n",
       "7        9104          1       1388.90  2024-11-04\n",
       "8        9105          2       1861.24  2024-11-03\n",
       "9        9106          3       3525.50  2024-11-02"
      ]
     },
     "execution_count": 10,
     "metadata": {},
     "output_type": "execute_result"
    }
   ],
   "source": [
    "df.toPandas().head(10)"
   ]
  },
  {
   "cell_type": "code",
   "execution_count": 18,
   "metadata": {},
   "outputs": [
    {
     "name": "stdout",
     "output_type": "stream",
     "text": [
      "Testing raw query execution...\n",
      "2025-07-03 02:01:33 - snowpark_db_api.connections - INFO - Successfully connected to SQL Server: alingtestserver.database.windows.net\n",
      "[(1, 77600), (2, 18748), (3, 15938), (4, 20309), (5, 99893)]\n"
     ]
    }
   ],
   "source": [
    "print(\"Testing raw query execution...\")\n",
    "simple_raw_query = \"SELECT TOP 5 ID, Column0 FROM dbo.RandomDataWith100Columns\"\n",
    "raw_results = engine.execute_raw_query(simple_raw_query)"
   ]
  },
  {
   "cell_type": "code",
   "execution_count": 19,
   "metadata": {},
   "outputs": [],
   "source": [
    "engine.cleanup_raw_connections()"
   ]
  },
  {
   "cell_type": "markdown",
   "metadata": {
    "vscode": {
     "languageId": "raw"
    }
   },
   "source": [
    "## 2. Direct DataTransfer Usage\n",
    "\n",
    "Use the core DataTransfer class directly. This is what all higher APIs build on.\n"
   ]
  },
  {
   "cell_type": "code",
   "execution_count": 20,
   "metadata": {},
   "outputs": [
    {
     "name": "stdout",
     "output_type": "stream",
     "text": [
      "2025-07-03 02:02:56 - snowpark_db_api.core - INFO - Setting up connections\n",
      "2025-07-03 02:02:57 - snowpark_db_api.core - INFO - All connections established\n"
     ]
    }
   ],
   "source": [
    "# Create DataTransfer instance directly\n",
    "config = get_config()\n",
    "config.snowflake.database = \"DB_API_MSSQL\"\n",
    "config.snowflake.create_db_if_missing = False\n",
    "# Manually configure the transfer settings\n",
    "config.transfer.source_table = \"dbo.Orders\"\n",
    "config.transfer.destination_table = \"DIRECT_ORDERS\"\n",
    "config.transfer.mode = \"overwrite\"\n",
    "config.transfer.fetch_size = 1000  # Custom fetch size\n",
    "config.transfer.max_workers = 4    # Custom parallelism\n",
    "\n",
    "transfer = DataTransfer(config)\n",
    "success = transfer.setup_connections()"
   ]
  },
  {
   "cell_type": "code",
   "execution_count": 25,
   "metadata": {},
   "outputs": [
    {
     "name": "stdout",
     "output_type": "stream",
     "text": [
      "2025-07-03 02:04:26 - snowpark_db_api.connections - INFO - Successfully connected to SQL Server: alingtestserver.database.windows.net\n",
      "Direct query returned 5 rows\n"
     ]
    }
   ],
   "source": [
    "source_conn = transfer.source_connection()\n",
    "cursor = source_conn.cursor()\n",
    "cursor.execute(\"SELECT TOP 5 ID FROM dbo.RandomDataWith100Columns\")\n",
    "results = cursor.fetchall()\n",
    "cursor.close()\n",
    "print(f\"Direct query returned {len(results)} rows\")"
   ]
  },
  {
   "cell_type": "code",
   "execution_count": 26,
   "metadata": {},
   "outputs": [
    {
     "name": "stdout",
     "output_type": "stream",
     "text": [
      "Current database: DB_API_MSSQL\n"
     ]
    }
   ],
   "source": [
    "# Test Snowflake session\n",
    "sf_result = transfer.session.sql(\"SELECT CURRENT_DATABASE()\").collect()\n",
    "print(f\"Current database: {sf_result[0][0]}\")"
   ]
  },
  {
   "cell_type": "code",
   "execution_count": 27,
   "metadata": {},
   "outputs": [
    {
     "name": "stdout",
     "output_type": "stream",
     "text": [
      "Source connection factory: <function create_sqlserver_connection.<locals>.connection_factory at 0xffff757456c0>\n",
      "Snowflake session: <class 'snowflake.snowpark.session.Session'>\n",
      "Snowflake connection: <class 'snowpark_db_api.snowflake_connection.SnowflakeConnection'>\n"
     ]
    }
   ],
   "source": [
    "print(f\"Source connection factory: {transfer.source_connection}\")\n",
    "print(f\"Snowflake session: {type(transfer.session)}\")\n",
    "print(f\"Snowflake connection: {type(transfer.snowflake_connection)}\")"
   ]
  },
  {
   "cell_type": "code",
   "execution_count": 30,
   "metadata": {},
   "outputs": [
    {
     "name": "stdout",
     "output_type": "stream",
     "text": [
      "2025-07-03 02:05:59 - snowpark_db_api.core - INFO - Starting transfer using custom query -> DIRECT_ORDERS\n",
      "2025-07-03 02:06:00 - snowpark_db_api.connections - INFO - Successfully connected to SQL Server: alingtestserver.database.windows.net\n",
      "2025-07-03 02:06:01 - snowpark_db_api.connections - INFO - Successfully connected to SQL Server: alingtestserver.database.windows.net\n",
      "2025-07-03 02:06:02 - snowpark_db_api.connections - INFO - Successfully connected to SQL Server: alingtestserver.database.windows.net\n",
      "2025-07-03 02:06:05 - snowpark_db_api.core - INFO - Transferring 5 rows\n",
      "2025-07-03 02:06:06 - snowpark_db_api.core - INFO - Transfer completed: 5 rows in 6.5s\n"
     ]
    }
   ],
   "source": [
    "# Execute the transfer with custom parameters\n",
    "transfer_success = transfer.transfer_table(\n",
    "    query=\"(SELECT TOP 5 ID FROM dbo.RandomDataWith100Columns) as transfer_test\",  # Use table-based transfer\n",
    "    limit_rows=100  # Custom row limit\n",
    ")"
   ]
  },
  {
   "cell_type": "code",
   "execution_count": 31,
   "metadata": {},
   "outputs": [
    {
     "name": "stdout",
     "output_type": "stream",
     "text": [
      "Transfer statistics:\n",
      "  - Rows transferred: 5\n",
      "  - Duration: 6.452975 seconds\n",
      "  - Memory used: 0.0 MB\n",
      "  - Errors: 0\n"
     ]
    }
   ],
   "source": [
    "# Access detailed transfer statistics\n",
    "stats = transfer.transfer_stats\n",
    "print(f\"Transfer statistics:\")\n",
    "print(f\"  - Rows transferred: {stats.get('rows_transferred', 'N/A')}\")\n",
    "print(f\"  - Duration: {stats.get('duration_seconds', 'N/A')} seconds\")\n",
    "print(f\"  - Memory used: {stats.get('memory_used_mb', 'N/A')} MB\")\n",
    "print(f\"  - Errors: {stats.get('errors', 'N/A')}\")"
   ]
  },
  {
   "cell_type": "code",
   "execution_count": 32,
   "metadata": {},
   "outputs": [],
   "source": [
    "transfer.cleanup()"
   ]
  },
  {
   "cell_type": "markdown",
   "metadata": {
    "vscode": {
     "languageId": "raw"
    }
   },
   "source": [
    "## 3. Custom Configuration & Advanced Patterns\n",
    "\n",
    "Build your own configuration objects and implement custom transfer logic.\n"
   ]
  },
  {
   "cell_type": "code",
   "execution_count": 36,
   "metadata": {},
   "outputs": [],
   "source": [
    "# # Build custom configuration programmatically\n",
    "# from snowpark_db_api.config import (\n",
    "#     SourceConfig, SnowflakeConfig, TransferConfig, DatabaseType\n",
    "# )\n",
    "\n",
    "# # Create completely custom configuration\n",
    "# custom_source = SourceConfig(\n",
    "#     host=\"custom-sql-server.company.com\",\n",
    "#     port=1433,\n",
    "#     database=\"CustomDatabase\",\n",
    "#     username=\"custom_user\",\n",
    "#     password=\"custom_password\",\n",
    "#     driver=\"ODBC Driver 17 for SQL Server\"\n",
    "# )\n",
    "\n",
    "# custom_snowflake = SnowflakeConfig(\n",
    "#     account=\"custom_account\",\n",
    "#     user=\"custom_user\", \n",
    "#     password=\"custom_password\",\n",
    "#     role=\"CUSTOM_ROLE\",\n",
    "#     warehouse=\"CUSTOM_WH\",\n",
    "#     database=\"CUSTOM_DB\",\n",
    "#     db_schema=\"CUSTOM_SCHEMA\",\n",
    "#     create_db_if_missing=True\n",
    "# )\n",
    "\n",
    "# custom_transfer = TransferConfig(\n",
    "#     source_table=\"\",  # Will be set per transfer\n",
    "#     destination_table=\"\",  # Will be set per transfer\n",
    "#     mode=\"overwrite\",\n",
    "#     fetch_size=5000,  # High performance setting\n",
    "#     query_timeout=300,  # 5 minute timeout\n",
    "#     max_workers=8,  # Maximum parallelism\n",
    "#     save_metadata=True  # Save detailed logs\n",
    "# )\n",
    "\n",
    "# # Combine into complete config\n",
    "# custom_config = Config(\n",
    "#     database_type=DatabaseType.SQLSERVER,\n",
    "#     source=custom_source,\n",
    "#     snowflake=custom_snowflake,\n",
    "#     transfer=custom_transfer,\n",
    "#     log_level=\"INFO\"\n",
    "# )\n",
    "\n",
    "# print(\"🔧 Custom configuration created\")\n",
    "# print(f\"Source: {custom_config.source.host}:{custom_config.source.port}\")\n",
    "# print(f\"Target: {custom_config.snowflake.account}.{custom_config.snowflake.database}\")\n",
    "# print(f\"Performance: {custom_config.transfer.max_workers} workers, {custom_config.transfer.fetch_size} fetch size\")\n",
    "\n",
    "# # Use the custom config with raw transfer_data function\n",
    "# custom_config.transfer.source_table = \"dbo.Orders\"\n",
    "# custom_config.transfer.destination_table = \"CUSTOM_ORDERS\"\n",
    "\n",
    "# # This is the lowest level - direct function call\n",
    "# success = transfer_data(\n",
    "#     config=custom_config,\n",
    "#     query=\"(SELECT TOP 50 * FROM dbo.Orders WHERE OrderDate >= '2023-01-01') AS recent_orders_custom\"\n",
    "# )\n",
    "\n",
    "# print(f\"Custom low-level transfer: {success}\")\n"
   ]
  },
  {
   "cell_type": "markdown",
   "metadata": {
    "vscode": {
     "languageId": "raw"
    }
   },
   "source": [
    "## 4. Direct Snowpark Operations\n",
    "\n",
    "For the most advanced users: direct access to Snowpark DataFrames and operations.\n"
   ]
  },
  {
   "cell_type": "code",
   "execution_count": 35,
   "metadata": {},
   "outputs": [],
   "source": [
    "# # Create a DataTransfer instance to get access to Snowpark session\n",
    "# config = get_config()\n",
    "# transfer = DataTransfer(config)\n",
    "# transfer.setup_connections()\n",
    "\n",
    "# # Get the raw Snowpark session\n",
    "# session = transfer.session\n",
    "# print(f\"Snowpark session: {session}\")\n",
    "\n",
    "# # Create DataFrame with complete Snowpark control\n",
    "# df = session.read.dbapi(\n",
    "#     transfer.source_connection,\n",
    "#     query=\"SELECT TOP 10 * FROM dbo.Orders\",\n",
    "#     fetch_size=100,\n",
    "#     query_timeout=30,\n",
    "#     max_workers=2\n",
    "# )\n",
    "\n",
    "# # Direct Snowpark DataFrame operations\n",
    "# print(\"🔍 Direct Snowpark DataFrame operations:\")\n",
    "# print(f\"Schema: {df.schema}\")\n",
    "# print(f\"Columns: {df.columns}\")\n",
    "\n",
    "# # Apply Snowpark transformations\n",
    "# from snowflake.snowpark.functions import col, when, lit\n",
    "\n",
    "# # Custom transformations using Snowpark directly\n",
    "# transformed_df = (df\n",
    "#     .select(\n",
    "#         col(\"O_ORDERKEY\").alias(\"order_id\"),\n",
    "#         col(\"O_CUSTKEY\").alias(\"customer_id\"), \n",
    "#         col(\"O_TOTALPRICE\").alias(\"total_price\"),\n",
    "#         when(col(\"O_TOTALPRICE\") > 1000, lit(\"HIGH\"))\n",
    "#         .when(col(\"O_TOTALPRICE\") > 500, lit(\"MEDIUM\"))\n",
    "#         .otherwise(lit(\"LOW\")).alias(\"price_category\")\n",
    "#     )\n",
    "#     .filter(col(\"O_TOTALPRICE\") > 0)\n",
    "#     .order_by(col(\"O_TOTALPRICE\").desc())\n",
    "# )\n",
    "\n",
    "# print(\"📊 DataFrame transformed with custom Snowpark logic\")\n",
    "\n",
    "# # Show the results\n",
    "# print(\"Sample data:\")\n",
    "# transformed_df.show(5)\n",
    "\n",
    "# # Write with complete control over Snowpark write options\n",
    "# write_result = (transformed_df\n",
    "#     .write\n",
    "#     .mode(\"overwrite\")\n",
    "#     .option(\"compression\", \"gzip\")\n",
    "#     .save_as_table(\"ADVANCED_ORDERS_ANALYSIS\"))\n",
    "\n",
    "# print(f\"Advanced Snowpark write completed: {write_result}\")\n",
    "\n",
    "# # Clean up\n",
    "# transfer.cleanup()\n",
    "# print(\"⚡ Direct Snowpark operations completed\")\n"
   ]
  },
  {
   "cell_type": "markdown",
   "metadata": {
    "vscode": {
     "languageId": "raw"
    }
   },
   "source": [
    "## Summary: When to Use Low-Level API\n",
    "\n",
    "**Use this API when:**\n",
    "- ✅ You need complete control over every operation\n",
    "- ✅ You're building tools on top of the core functionality\n",
    "- ✅ You need custom performance optimizations\n",
    "- ✅ You want direct access to Snowpark DataFrames\n",
    "- ✅ You're implementing complex custom logic\n",
    "- ✅ You need detailed debugging and monitoring\n",
    "\n",
    "**Don't use this API when:**\n",
    "- ❌ You just want to transfer data quickly (use High-Level API)  \n",
    "- ❌ You want productive workflows (use Mid-Level API)\n",
    "- ❌ You don't need the complexity\n",
    "- ❌ You're not comfortable with manual resource management\n",
    "\n",
    "**What you learned:**\n",
    "- `LowLevelTransferEngine` - Raw access to all transfer operations\n",
    "- `DataTransfer` - Core transfer class with manual control\n",
    "- `transfer_data()` - Lowest level transfer function\n",
    "- Custom `Config` building - Programmatic configuration\n",
    "- Direct Snowpark operations - Complete DataFrame control\n",
    "- Manual connection and resource management\n",
    "\n",
    "**Key Principle:** With great power comes great responsibility. You control everything, but you must handle everything.\n",
    "\n",
    "**Journey Complete:** You now have three levels of API to choose from based on your needs!\n"
   ]
  }
 ],
 "metadata": {
  "kernelspec": {
   "display_name": "Python 3 (ipykernel)",
   "language": "python",
   "name": "python3"
  },
  "language_info": {
   "codemirror_mode": {
    "name": "ipython",
    "version": 3
   },
   "file_extension": ".py",
   "mimetype": "text/x-python",
   "name": "python",
   "nbconvert_exporter": "python",
   "pygments_lexer": "ipython3",
   "version": "3.11.13"
  }
 },
 "nbformat": 4,
 "nbformat_minor": 4
}
